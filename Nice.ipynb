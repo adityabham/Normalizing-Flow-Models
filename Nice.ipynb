{
 "cells": [
  {
   "cell_type": "code",
   "execution_count": 211,
   "id": "bf15c7cd-6283-4e69-a96e-ca9e0061a284",
   "metadata": {},
   "outputs": [],
   "source": [
    "import torch\n",
    "from torch import nn\n",
    "from torch.nn import functional as F\n",
    "import torch.distributions as D\n",
    "from torch.distributions.transformed_distribution import TransformedDistribution\n",
    "import torchvision\n",
    "import torchvision.transforms as transforms\n",
    "import math\n",
    "import numpy as np\n",
    "import matplotlib.pyplot as plt\n",
    "import math\n",
    "%matplotlib inline"
   ]
  },
  {
   "cell_type": "markdown",
   "id": "393cd4fd",
   "metadata": {},
   "source": [
    "#### Model Implementation"
   ]
  },
  {
   "cell_type": "code",
   "execution_count": 213,
   "id": "57f74fe0-7d47-467d-8479-cb6b642489f3",
   "metadata": {},
   "outputs": [],
   "source": [
    "class NICE(nn.Module):\n",
    "    # NICE model architecture \n",
    "    def __init__(self, in_feature, hidden_feature):\n",
    "        super().__init__()\n",
    "        \n",
    "        # Affine Coupling layer         \n",
    "        self.flow_block = nn.Sequential(\n",
    "            nn.Linear(in_feature // 2, hidden_feature), \n",
    "            nn.ReLU(True),\n",
    "            nn.Linear(hidden_feature, hidden_feature), \n",
    "            nn.ReLU(True),\n",
    "            nn.Linear(hidden_feature, hidden_feature), \n",
    "            nn.ReLU(True),\n",
    "            nn.Linear(hidden_feature, hidden_feature), \n",
    "            nn.ReLU(True),\n",
    "            nn.Linear(hidden_feature, hidden_feature), \n",
    "            nn.ReLU(True),\n",
    "            nn.Linear(hidden_feature, in_feature // 2),\n",
    "            nn.ReLU(True)\n",
    "        )\n",
    "        \n",
    "        # 4 layer architecture\n",
    "        self.model = torch.nn.ModuleList([self.flow_block for block in range(4)])\n",
    "        self.scaling = torch.nn.Parameter(torch.randn(in_feature))\n",
    "        \n",
    "    def splitting(self, data, layer):\n",
    "        # Split data into two blocks (even and odd indices)\n",
    "        if layer % 2 == 0:\n",
    "            x1 = data[:, ::2]\n",
    "            x2 = data[:, 1::2]\n",
    "        else:\n",
    "            x1 = data[:, 1::2]\n",
    "            x2 = data[:, ::2]\n",
    "\n",
    "        return x1, x2 \n",
    "            \n",
    "    def forward(self, x):\n",
    "        for layer in range(len(self.model)):\n",
    "            x1, x2 = self.splitting(x, layer)\n",
    "            h1 = x1 \n",
    "            h2 = x2 + self.model[layer](x1)\n",
    "            x[:, ::2] = h1\n",
    "            x[:, 1::2] = h2\n",
    "\n",
    "        z = torch.exp(self.scaling) * x\n",
    "        return z, torch.sum(self.scaling)\n",
    "    \n",
    "    def reverse(self, z):\n",
    "        x = z * torch.exp(-self.scaling)\n",
    "        for layer in range(len(self.model)-1,-1,-1):\n",
    "            h1 = x[:, ::2]\n",
    "            h2 = x[:, 1::2]\n",
    "            x1 = h1\n",
    "            x2 = h2 - self.model[layer](x1)\n",
    "            if layer % 2 == 0:\n",
    "                x[:, ::2] = x1\n",
    "                x[:, 1::2] = x2\n",
    "            else:\n",
    "                x[:, 1::2] = x1\n",
    "                x[:, ::2] = x2\n",
    "            \n",
    "        return x "
   ]
  },
  {
   "cell_type": "markdown",
   "id": "437d934c",
   "metadata": {},
   "source": [
    "#### Training"
   ]
  },
  {
   "cell_type": "code",
   "execution_count": 214,
   "id": "59237ad9-ebd8-4e4c-8c27-20c06ae07640",
   "metadata": {},
   "outputs": [],
   "source": [
    "model = NICE(784, 1000)"
   ]
  },
  {
   "cell_type": "code",
   "execution_count": 215,
   "id": "b1082d75-229f-4d37-bd78-b206434bf8e4",
   "metadata": {},
   "outputs": [],
   "source": [
    "train_set = torchvision.datasets.MNIST(root='./data', train=True, download=True, transform=transforms.ToTensor())\n",
    "data_size = 2000\n",
    "data_idx =  torch.randperm(len(train_set))\n",
    "data_idx = data_idx[:data_size]\n",
    "sub_dataset = torch.utils.data.Subset(train_set, data_idx)\n",
    "train_loader = torch.utils.data.DataLoader(sub_dataset, batch_size=64, shuffle=True)"
   ]
  },
  {
   "cell_type": "code",
   "execution_count": 216,
   "id": "b63d330a-1666-46a1-b798-582e5413e429",
   "metadata": {},
   "outputs": [],
   "source": [
    "optimizer = torch.optim.Adam(model.parameters(), lr=0.0002)\n",
    "dist = D.Normal(torch.zeros(784),torch.ones(784))\n",
    "for epoch in range(5):\n",
    "    for batch_id, (data, _) in enumerate(train_loader):\n",
    "        data = data.view(data.size(0),-1)\n",
    "        z, log_det = model(data)\n",
    "        log_likelihood = dist.log_prob(z) + log_det\n",
    "        loss = -log_likelihood.sum().item()\n",
    "        loss = torch.tensor(loss, requires_grad=True)\n",
    "        optimizer.zero_grad()\n",
    "        loss.backward()\n",
    "        optimizer.step()"
   ]
  },
  {
   "cell_type": "markdown",
   "id": "b69097c3",
   "metadata": {},
   "source": [
    "#### Testing"
   ]
  },
  {
   "cell_type": "code",
   "execution_count": 238,
   "id": "67706290-0a81-46d1-b4f9-e4c49295fb70",
   "metadata": {},
   "outputs": [],
   "source": [
    "def plot_sample():\n",
    "    test_set = torchvision.datasets.MNIST(root='./data', train=False, download=True, transform=transforms.ToTensor())\n",
    "    test_loader = torch.utils.data.DataLoader(test_set, batch_size=1, shuffle=True)\n",
    "    for batch_id, (data, _) in enumerate(test_loader):\n",
    "        \n",
    "        print(\"Original Image:\")\n",
    "        fig = plt.figure\n",
    "        plt.imshow(data.reshape(28,28), cmap='gray')\n",
    "        plt.show()\n",
    "        \n",
    "        data = data.view(data.size(0),-1)\n",
    "        z, _ = model(data)\n",
    "        x_recon = model.reverse(z)\n",
    "        loss_criterion = nn.MSELoss()\n",
    "        l = loss_criterion(data, x_recon)\n",
    "        \n",
    "        print(\"Reconstructed Image utilizing NICE Model:\")\n",
    "        fig = plt.figure\n",
    "        plt.imshow(x_recon.detach().reshape(28,28), cmap='gray')\n",
    "        plt.show()\n",
    "        \n",
    "        print(\"Reconstruction Error: \" + str(l.item()))\n",
    "        \n",
    "        break"
   ]
  },
  {
   "cell_type": "code",
   "execution_count": 240,
   "id": "685bfe4b-23b0-4648-85e2-9af0048b7613",
   "metadata": {},
   "outputs": [
    {
     "name": "stdout",
     "output_type": "stream",
     "text": [
      "Original Image:\n"
     ]
    },
    {
     "data": {
      "image/png": "[encoded data removed]",
      "text/plain": [
       "<Figure size 432x288 with 1 Axes>"
      ]
     },
     "metadata": {
      "needs_background": "light"
     },
     "output_type": "display_data"
    },
    {
     "name": "stdout",
     "output_type": "stream",
     "text": [
      "Reconstructed Image utilizing NICE Model:\n"
     ]
    },
    {
     "data": {
      "image/png": "[encoded data removed]",
      "text/plain": [
       "<Figure size 432x288 with 1 Axes>"
      ]
     },
     "metadata": {
      "needs_background": "light"
     },
     "output_type": "display_data"
    },
    {
     "name": "stdout",
     "output_type": "stream",
     "text": [
      "Reconstruction Error: 0.0005856438656337559\n",
      "Original Image:\n"
     ]
    },
    {
     "data": {
      "image/png": "[encoded data removed]",
      "text/plain": [
       "<Figure size 432x288 with 1 Axes>"
      ]
     },
     "metadata": {
      "needs_background": "light"
     },
     "output_type": "display_data"
    },
    {
     "name": "stdout",
     "output_type": "stream",
     "text": [
      "Reconstructed Image utilizing NICE Model:\n"
     ]
    },
    {
     "data": {
      "image/png": "[encoded data removed]",
      "text/plain": [
       "<Figure size 432x288 with 1 Axes>"
      ]
     },
     "metadata": {
      "needs_background": "light"
     },
     "output_type": "display_data"
    },
    {
     "name": "stdout",
     "output_type": "stream",
     "text": [
      "Reconstruction Error: 0.0005973355728201568\n",
      "Original Image:\n"
     ]
    },
    {
     "data": {
      "image/png": "[encoded data removed]",
      "text/plain": [
       "<Figure size 432x288 with 1 Axes>"
      ]
     },
     "metadata": {
      "needs_background": "light"
     },
     "output_type": "display_data"
    },
    {
     "name": "stdout",
     "output_type": "stream",
     "text": [
      "Reconstructed Image utilizing NICE Model:\n"
     ]
    },
    {
     "data": {
      "image/png": "[encoded data removed]",
      "text/plain": [
       "<Figure size 432x288 with 1 Axes>"
      ]
     },
     "metadata": {
      "needs_background": "light"
     },
     "output_type": "display_data"
    },
    {
     "name": "stdout",
     "output_type": "stream",
     "text": [
      "Reconstruction Error: 0.0005845214473083615\n"
     ]
    }
   ],
   "source": [
    "for i in range(3):\n",
    "    plot_sample()"
   ]
  }
 ],
 "metadata": {
  "kernelspec": {
   "display_name": "Python 3 (ipykernel)",
   "language": "python",
   "name": "python3"
  },
  "language_info": {
   "codemirror_mode": {
    "name": "ipython",
    "version": 3
   },
   "file_extension": ".py",
   "mimetype": "text/x-python",
   "name": "python",
   "nbconvert_exporter": "python",
   "pygments_lexer": "ipython3",
   "version": "3.9.12"
  }
 },
 "nbformat": 4,
 "nbformat_minor": 5
}
